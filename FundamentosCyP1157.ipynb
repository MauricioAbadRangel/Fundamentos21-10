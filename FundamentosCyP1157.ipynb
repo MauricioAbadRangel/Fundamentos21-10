{
  "nbformat": 4,
  "nbformat_minor": 0,
  "metadata": {
    "colab": {
      "name": "FundamentosCyP1157.ipynb",
      "provenance": [],
      "authorship_tag": "ABX9TyPcG1cpofi580oQ8t2jGrrP",
      "include_colab_link": true
    },
    "kernelspec": {
      "name": "python3",
      "display_name": "Python 3"
    },
    "language_info": {
      "name": "python"
    }
  },
  "cells": [
    {
      "cell_type": "markdown",
      "metadata": {
        "id": "view-in-github",
        "colab_type": "text"
      },
      "source": [
        "<a href=\"https://colab.research.google.com/github/MauricioAbadRangel/Fundamentos21-10/blob/main/FundamentosCyP1157.ipynb\" target=\"_parent\"><img src=\"https://colab.research.google.com/assets/colab-badge.svg\" alt=\"Open In Colab\"/></a>"
      ]
    },
    {
      "cell_type": "code",
      "metadata": {
        "colab": {
          "base_uri": "https://localhost:8080/"
        },
        "id": "-oM1507UVfQh",
        "outputId": "22312ee9-6bd9-4770-83fb-85bb17fa13ba"
      },
      "source": [
        " nombre = 'jose' # Tipo de dato string (cadena de caracteres)\n",
        " \n",
        " print( nombre)\n",
        "\n",
        "\n"
      ],
      "execution_count": null,
      "outputs": [
        {
          "output_type": "stream",
          "name": "stdout",
          "text": [
            "jose\n"
          ]
        }
      ]
    },
    {
      "cell_type": "markdown",
      "metadata": {
        "id": "lV8TbkfuXWVW"
      },
      "source": [
        "#Tipos de dato en python \n",
        "- str -->String cadena de caracteres.\n",
        "- int --> Numeros enteros \n",
        "- float--> Numeros con notacion de punto flotante\n",
        "- Complex--> numeros complejos\n",
        "- bool --> Boleano ( True o Fals)\n",
        "- byte --> 8 bits\n",
        "### Tipos de datos estructurados \n",
        "(compuestos)\n",
        "-List --> Listas\n",
        "- dict --> diccionarios \n",
        "- set y frozenset--> Conjuntos\n",
        "- tuples--> Listas no muteables"
      ]
    },
    {
      "cell_type": "code",
      "metadata": {
        "colab": {
          "base_uri": "https://localhost:8080/"
        },
        "id": "VU3dtDyLaRT5",
        "outputId": "0cda501e-e503-43df-9dea-24bdef324d4e"
      },
      "source": [
        "import sys\n",
        "edad = 19\n",
        "print( \"tu edad es:\",edad) #al final de una linea de codigo\n",
        "# este es un comentario de linea simple \n",
        "\n",
        "\"\"\" \n",
        "Comentario de multiple linea \n",
        "En lenguaje c, c++ y java el comentario de multiple linea es /* ... */\n",
        "El lenguaje de c c++ java el comentario de una linea es con //\n",
        "\n",
        "\"\"\"\n",
        "#Tipos de dato numerico int y float\n",
        "\n",
        "print(sys.getsizeof(edad) )\n",
        "#EL TIPO DE DATO INT utiliza diferente cantidad de bits segun\n",
        "#leg de prog. por ejemplo en C utiliza 16 bits\n",
        "edad = edad + 1\n",
        "\n",
        "print( edad )\n",
        "\n",
        "estatura = 1.56 \n",
        "print(sys.getsizeof(estatura) )\n",
        "estatura = estatura + 0.1\n",
        "print(round( estatura,2 ))\n",
        "\n",
        "edad += 1 #edad = edad + 1\n",
        "print( \"tu edad es:\",edad)\n",
        "\n",
        "edad-= 1\n",
        "print( \"tu edad es:\",edad)\n",
        "\n",
        "edad /= 2\n",
        "print( \"tu edad es:\",edad)\n",
        "\n",
        "\n",
        "\n",
        "\n",
        "edad = 21\n",
        "#volver a calulcular la mitad de la edad pero solo dejar el valor entero \n",
        "#parte entera\n",
        "edad = edad // 2\n",
        "print( \"la mitad de tu edad es\", edad)\n",
        "#en la mayoria de lenguajes no se permite operaciones entre diferentes tipos de datos\n",
        "numero = edad / 2.0\n",
        "print ( numero )\n",
        "numero *= 3\n",
        "print(numero)\n",
        "\n",
        "\n",
        "numero = 5.0\n",
        "numero = numero ** 2\n",
        "print( numero )\n",
        "\n",
        "# operador modulo\n",
        "numero = 21\n",
        "print(numero // 2)\n",
        "\n",
        "# el operador modulo da como resultado el residuo de division entera \n",
        "print( numero % 2)\n",
        "\n",
        "numero = 24 \n",
        "print(\"residuo de 24/ 5\", numero % 5)\n",
        "\n",
        "print(numero % 2 == 0)\n",
        "print( numero > 24)\n",
        "print( \"24 es diferente a 23=\", numero != 23)"
      ],
      "execution_count": null,
      "outputs": [
        {
          "output_type": "stream",
          "name": "stdout",
          "text": [
            "tu edad es: 19\n",
            "28\n",
            "20\n",
            "24\n",
            "1.66\n",
            "tu edad es: 21\n",
            "tu edad es: 20\n",
            "tu edad es: 10.0\n",
            "la mitad de tu edad es 10\n",
            "5.0\n",
            "15.0\n",
            "25.0\n",
            "10\n",
            "1\n",
            "residuo de 24/ 5 4\n",
            "True\n",
            "False\n",
            "24 es diferente a 23= True\n"
          ]
        }
      ]
    },
    {
      "cell_type": "code",
      "metadata": {
        "colab": {
          "base_uri": "https://localhost:8080/"
        },
        "id": "DSqzwkUboK7R",
        "outputId": "b1792f7d-cf55-4cbf-c6d8-42a22c5a98f8"
      },
      "source": [
        "import sys\n",
        "edad = 19\n",
        "print( \"tu edad es:\",edad) #al final de una linea de codigo\n",
        "# este es un comentario de linea simple \n",
        "\n",
        "\"\"\" \n",
        "Comentario de multiple linea \n",
        "En lenguaje c, c++ y java el comentario de multiple linea es /* ... */\n",
        "El lenguaje de c c++ java el comentario de una linea es con //\n",
        "\n",
        "\"\"\"\n",
        "#Tipos de dato numerico int y float\n",
        "\n",
        "print(sys.getsizeof(edad) )\n",
        "#EL TIPO DE DATO INT utiliza diferente cantidad de bits segun\n",
        "#leg de prog. por ejemplo en C utiliza 16 bits\n",
        "edad = edad + 1\n",
        "\n",
        "print( edad )\n",
        "\n",
        "estatura = 1.56 \n",
        "print(sys.getsizeof(estatura) )\n",
        "estatura = estatura + 0.1\n",
        "print(round( estatura,2 ))\n",
        "\n",
        "edad += 1 #edad = edad + 1\n",
        "print( \"tu edad es:\",edad)\n",
        "\n",
        "edad-= 1\n",
        "print( \"tu edad es:\",edad)\n",
        "\n",
        "edad /= 2\n",
        "print( \"tu edad es:\",edad)\n",
        "\n",
        "\n",
        "\n",
        "\n",
        "edad = 21\n",
        "#volver a calulcular la mitad de la edad pero solo dejar el valor entero \n",
        "#parte entera\n",
        "edad = edad // 2\n",
        "print( \"la mitad de tu edad es\", edad)\n",
        "#en la mayoria de lenguajes no se permite operaciones entre diferentes tipos de datos\n",
        "numero = edad / 2.0\n",
        "print ( numero )\n",
        "numero *= 3\n",
        "print(numero)\n",
        "\n",
        "\n",
        "numero = 5.0\n",
        "numero = numero ** 2\n",
        "print( numero )\n",
        "\n",
        "# operador modulo\n",
        "numero = 21\n",
        "print(numero // 2)\n",
        "\n",
        "# el operador modulo da como resultado el residuo de division entera \n",
        "print( numero % 2)\n",
        "\n",
        "numero = 24 \n",
        "print(\"residuo de 24/ 5\", numero % 5)\n",
        "\n",
        "print(numero % 2 == 0)\n",
        "print( numero > 24)\n",
        "print(\"el tipo de dato de la var numero es :\", type(numero))"
      ],
      "execution_count": null,
      "outputs": [
        {
          "output_type": "stream",
          "name": "stdout",
          "text": [
            "tu edad es: 19\n",
            "28\n",
            "20\n",
            "24\n",
            "1.66\n",
            "tu edad es: 21\n",
            "tu edad es: 20\n",
            "tu edad es: 10.0\n",
            "la mitad de tu edad es 10\n",
            "5.0\n",
            "15.0\n",
            "25.0\n",
            "10\n",
            "1\n",
            "residuo de 24/ 5 4\n",
            "True\n",
            "False\n",
            "el tipo de dato de la var numero es : <class 'int'>\n"
          ]
        }
      ]
    },
    {
      "cell_type": "markdown",
      "metadata": {
        "id": "AvU8Soyspj5p"
      },
      "source": [
        "#Tipo de dato String  (str) en Python\n",
        "-Se maneja como n arreglo ( tipo de dato compuesto)\n",
        "\n",
        "-Significa que se puede acceder a los elementos de el string por medio de indice del caracter \n",
        "\n",
        "-Es mutable \n",
        "\n",
        "-Tiene metodos utiles (potentes)\n",
        "\n",
        "-slicing\n",
        "\n"
      ]
    },
    {
      "cell_type": "code",
      "metadata": {
        "colab": {
          "base_uri": "https://localhost:8080/"
        },
        "id": "LRtnV_hfqKCW",
        "outputId": "41c5213b-3c19-46ed-ed5e-1a96e14822d1"
      },
      "source": [
        "nombre = 'jose'\n",
        "carrera =  \"ingenieria en computacion\"\n",
        "frase = \"\"\"El conocimiento me persigue...\n",
        "pero\n",
        "yo \n",
        "soy mas rapido\"\"\"\n",
        "print(nombre)\n",
        "print( carrera)\n",
        "print(frase)\n",
        "\n",
        "#la funcion type de python te devuelve el tipo de dato de una variable\n",
        "print(type (nombre) )\n",
        "\n",
        "\n",
        "paterno = str(\"perez\")\n",
        "print(paterno)"
      ],
      "execution_count": null,
      "outputs": [
        {
          "output_type": "stream",
          "name": "stdout",
          "text": [
            "jose\n",
            "ingenieria en computacion\n",
            "El conocimiento me persigue...\n",
            "pero\n",
            "yo \n",
            "soy mas rapido\n",
            "<class 'str'>\n",
            "perez\n"
          ]
        }
      ]
    },
    {
      "cell_type": "markdown",
      "metadata": {
        "id": "M-zVem6HXN2J"
      },
      "source": [
        ""
      ]
    },
    {
      "cell_type": "code",
      "metadata": {
        "id": "e6A3O6aAXDEF",
        "colab": {
          "base_uri": "https://localhost:8080/"
        },
        "outputId": "c6f34752-d57b-450b-dbb9-48cccdccd769"
      },
      "source": [
        "carrera = \"ingenieria en computacion\"\n",
        "print(carrera)\n",
        "print(carrera[2])\n",
        "print(carrera[-1])\n",
        "print(carrera [-25])\n",
        "print(carrera[-11:25:1])\n",
        "print(carrera[-11: :1])"
      ],
      "execution_count": null,
      "outputs": [
        {
          "output_type": "stream",
          "name": "stdout",
          "text": [
            "ingenieria en computacion\n",
            "g\n",
            "n\n",
            "i\n",
            "computacion\n",
            "computacion\n"
          ]
        }
      ]
    },
    {
      "cell_type": "code",
      "metadata": {
        "colab": {
          "base_uri": "https://localhost:8080/"
        },
        "id": "MwMCqYR2znxA",
        "outputId": "dbeea1af-d6c4-4e93-b7f1-ec8d0cad10cb"
      },
      "source": [
        "#un ejercicio mas para ver el incremento\n",
        "print(carrera[0:10:2])\n",
        "print(carrera[-1:-12:-1])\n"
      ],
      "execution_count": null,
      "outputs": [
        {
          "output_type": "stream",
          "name": "stdout",
          "text": [
            "ignei\n",
            "noicatupmoc\n"
          ]
        }
      ]
    },
    {
      "cell_type": "code",
      "metadata": {
        "id": "89qn5vfotkLr"
      },
      "source": [
        ""
      ],
      "execution_count": null,
      "outputs": []
    },
    {
      "cell_type": "markdown",
      "metadata": {
        "id": "VSP6_6d4ywBb"
      },
      "source": [
        "#funcion print\n",
        "###Se emplea para desplegar informacion en la salida estandar. Normalmente un monitor\n"
      ]
    },
    {
      "cell_type": "code",
      "metadata": {
        "colab": {
          "base_uri": "https://localhost:8080/"
        },
        "id": "V3AiAELxy-hl",
        "outputId": "f430004c-f4f0-4720-ed59-c393a58e555d"
      },
      "source": [
        "nombre = \"Jose\"\n",
        "edad = 18\n",
        "casado = False\n",
        "estatura = 1.67\n",
        "\n",
        "# 1.- Con Coma\n",
        "print( nombre,edad,casado,estatura)\n",
        "#2 .- Con el simbolo de \"+\"\n",
        "#Concatenacion en crudo \n",
        "print( nombre +\" \"+ str(edad) +\" \"+ str(casado) + str(estatura) )\n",
        "#Dando formato a la salida format\n",
        "print(\"con la funcion format()\")\n",
        "print(\"Nombre: \" + nombre + \"\\n\\tEdad: \"+ str(edad) +\" \"+str(casado) + \"\\n\\tEsta casado :\" )\n",
        "#4 con el operador f \" \"\n",
        "print(\"con el operador f\\\"\\\"\")"
      ],
      "execution_count": 12,
      "outputs": [
        {
          "output_type": "stream",
          "name": "stdout",
          "text": [
            "Jose 18 False 1.67\n",
            "Jose 18 False1.67\n",
            "con la funcion format()\n",
            "Nombre: Jose\n",
            "\tEdad: 18 False\n",
            "\tEsta casado :\n",
            "con el operador f\"\"\n"
          ]
        }
      ]
    },
    {
      "cell_type": "markdown",
      "metadata": {
        "id": "kWZly6uq7d6d"
      },
      "source": [
        "#Con la funcion por letra  print escribir su primer nombre (Nombre de pila) De la siguiente forma \n"
      ]
    },
    {
      "cell_type": "code",
      "metadata": {
        "id": "_34Q4RhV7cq2"
      },
      "source": [
        ""
      ],
      "execution_count": null,
      "outputs": []
    },
    {
      "cell_type": "markdown",
      "metadata": {
        "id": "GfCnZv2trpnn"
      },
      "source": [
        "#A la sintaxis escrita para elegir un elemento de un grupo de datos se le llama selector\n",
        "En el caso de string y listas (list) se usan los caracteres '[' y ']'\n",
        "1. En todos los lenguajes los arreglos inician en 0 \n",
        "2. En python no existe como tal el tipo de arreglo el concepto es sustituido por listas\n",
        "3. Los strings se comportan como un arreglo para la mayoria de los lenguajes\n",
        "4. En python se acepta en indexado negativo en otros lenguajes no\n"
      ]
    }
  ]
}